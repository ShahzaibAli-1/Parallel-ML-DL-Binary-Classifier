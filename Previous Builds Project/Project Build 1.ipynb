{
  "cells": [
    {
      "cell_type": "markdown",
      "id": "XImljcHz74ck",
      "metadata": {
        "id": "XImljcHz74ck"
      },
      "source": [
        "# Member 1\n",
        "# Name : Muhammad Muneer\n",
        "# Roll number: i220526\n",
        "# Member 2\n",
        "# Name : Shahzaib\n",
        "# Roll number: i220576\n",
        "\n",
        "# PDC Project\n",
        "# Section : AI-B\n"
      ]
    },
    {
      "cell_type": "markdown",
      "id": "3bfb7673",
      "metadata": {
        "id": "3bfb7673"
      },
      "source": [
        "# Preprocessing Data Set"
      ]
    },
    {
      "cell_type": "code",
      "execution_count": 4,
      "id": "a2c2bb23",
      "metadata": {
        "colab": {
          "base_uri": "https://localhost:8080/",
          "height": 206
        },
        "id": "a2c2bb23",
        "outputId": "7d983be5-8ef8-4a26-c3d0-de41c1606c16"
      },
      "outputs": [
        {
          "data": {
            "text/html": [
              "<div>\n",
              "<style scoped>\n",
              "    .dataframe tbody tr th:only-of-type {\n",
              "        vertical-align: middle;\n",
              "    }\n",
              "\n",
              "    .dataframe tbody tr th {\n",
              "        vertical-align: top;\n",
              "    }\n",
              "\n",
              "    .dataframe thead th {\n",
              "        text-align: right;\n",
              "    }\n",
              "</style>\n",
              "<table border=\"1\" class=\"dataframe\">\n",
              "  <thead>\n",
              "    <tr style=\"text-align: right;\">\n",
              "      <th></th>\n",
              "      <th>feature_1</th>\n",
              "      <th>feature_2</th>\n",
              "      <th>feature_3</th>\n",
              "      <th>feature_4</th>\n",
              "      <th>feature_5</th>\n",
              "      <th>feature_6</th>\n",
              "      <th>feature_7</th>\n",
              "      <th>target</th>\n",
              "    </tr>\n",
              "  </thead>\n",
              "  <tbody>\n",
              "    <tr>\n",
              "      <th>0</th>\n",
              "      <td>27.75</td>\n",
              "      <td>55.0</td>\n",
              "      <td>B</td>\n",
              "      <td>875.98</td>\n",
              "      <td>No</td>\n",
              "      <td>8</td>\n",
              "      <td>44.16</td>\n",
              "      <td>0</td>\n",
              "    </tr>\n",
              "    <tr>\n",
              "      <th>1</th>\n",
              "      <td>31.33</td>\n",
              "      <td>39.0</td>\n",
              "      <td>C</td>\n",
              "      <td>839.91</td>\n",
              "      <td>No</td>\n",
              "      <td>4</td>\n",
              "      <td>13.93</td>\n",
              "      <td>1</td>\n",
              "    </tr>\n",
              "    <tr>\n",
              "      <th>2</th>\n",
              "      <td>23.87</td>\n",
              "      <td>10.0</td>\n",
              "      <td>A</td>\n",
              "      <td>1364.70</td>\n",
              "      <td>Yes</td>\n",
              "      <td>4</td>\n",
              "      <td>15.16</td>\n",
              "      <td>0</td>\n",
              "    </tr>\n",
              "    <tr>\n",
              "      <th>3</th>\n",
              "      <td>35.64</td>\n",
              "      <td>34.0</td>\n",
              "      <td>C</td>\n",
              "      <td>1462.07</td>\n",
              "      <td>No</td>\n",
              "      <td>4</td>\n",
              "      <td>15.71</td>\n",
              "      <td>1</td>\n",
              "    </tr>\n",
              "    <tr>\n",
              "      <th>4</th>\n",
              "      <td>NaN</td>\n",
              "      <td>NaN</td>\n",
              "      <td>C</td>\n",
              "      <td>710.61</td>\n",
              "      <td>No</td>\n",
              "      <td>8</td>\n",
              "      <td>13.77</td>\n",
              "      <td>1</td>\n",
              "    </tr>\n",
              "  </tbody>\n",
              "</table>\n",
              "</div>"
            ],
            "text/plain": [
              "   feature_1  feature_2 feature_3  feature_4 feature_5  feature_6  feature_7  \\\n",
              "0      27.75       55.0         B     875.98        No          8      44.16   \n",
              "1      31.33       39.0         C     839.91        No          4      13.93   \n",
              "2      23.87       10.0         A    1364.70       Yes          4      15.16   \n",
              "3      35.64       34.0         C    1462.07        No          4      15.71   \n",
              "4        NaN        NaN         C     710.61        No          8      13.77   \n",
              "\n",
              "   target  \n",
              "0       0  \n",
              "1       1  \n",
              "2       0  \n",
              "3       1  \n",
              "4       1  "
            ]
          },
          "execution_count": 4,
          "metadata": {},
          "output_type": "execute_result"
        }
      ],
      "source": [
        "import pandas as pd\n",
        "data = pd.read_csv('./pdc_dataset_with_target.csv')\n",
        "data.head()"
      ]
    },
    {
      "cell_type": "code",
      "execution_count": 5,
      "id": "Cb8OLtQd73O_",
      "metadata": {
        "colab": {
          "base_uri": "https://localhost:8080/",
          "height": 335
        },
        "id": "Cb8OLtQd73O_",
        "outputId": "29fb4c23-73c3-475e-ab8f-d02c8b4aaf44"
      },
      "outputs": [
        {
          "data": {
            "text/plain": [
              "feature_1    2054\n",
              "feature_2    2050\n",
              "feature_3       0\n",
              "feature_4    2054\n",
              "feature_5       0\n",
              "feature_6       0\n",
              "feature_7    2036\n",
              "target          0\n",
              "dtype: int64"
            ]
          },
          "execution_count": 5,
          "metadata": {},
          "output_type": "execute_result"
        }
      ],
      "source": [
        "data.isna().sum()"
      ]
    },
    {
      "cell_type": "code",
      "execution_count": 6,
      "id": "e8c1ca4f",
      "metadata": {
        "colab": {
          "base_uri": "https://localhost:8080/"
        },
        "id": "e8c1ca4f",
        "outputId": "e254d68f-38e3-48bb-958a-bdf690729a7a"
      },
      "outputs": [
        {
          "data": {
            "text/plain": [
              "np.float64(29.990843475581585)"
            ]
          },
          "execution_count": 6,
          "metadata": {},
          "output_type": "execute_result"
        }
      ],
      "source": [
        "data['feature_1'].mean()"
      ]
    },
    {
      "cell_type": "markdown",
      "id": "44931605",
      "metadata": {
        "id": "44931605"
      },
      "source": [
        "### Filling out missing values with mean values in which feature values are missing\n",
        "* **feature_1**,**feature_2**, **feature_4**, **feature_7** have missing values\n",
        "* We filled those values with mean of values  "
      ]
    },
    {
      "cell_type": "code",
      "execution_count": 7,
      "id": "898f4065",
      "metadata": {
        "colab": {
          "base_uri": "https://localhost:8080/"
        },
        "id": "898f4065",
        "outputId": "14bffb72-1ecb-408d-8236-789c9c70578e"
      },
      "outputs": [
        {
          "name": "stdout",
          "output_type": "stream",
          "text": [
            "Testing out are missing values are filled?: \n",
            "41000\n",
            "41000\n",
            "41000\n",
            "41000\n"
          ]
        }
      ],
      "source": [
        "missing_features = ['feature_1', 'feature_2', 'feature_4', 'feature_7']\n",
        "for i in missing_features:\n",
        "    data[f'{i}'] = data[f'{i}'].fillna(data[f'{i}'].mean())\n",
        "print(\"Testing out are missing values are filled?: \")\n",
        "for i in missing_features:\n",
        "    print(data[f'{i}'].count())\n"
      ]
    },
    {
      "cell_type": "code",
      "execution_count": 8,
      "id": "3789ad7d",
      "metadata": {
        "colab": {
          "base_uri": "https://localhost:8080/",
          "height": 178
        },
        "id": "3789ad7d",
        "outputId": "e9e5585d-c5d8-4945-ba55-094d6bb4e3e2"
      },
      "outputs": [
        {
          "data": {
            "text/plain": [
              "target\n",
              "0    24682\n",
              "1    16318\n",
              "Name: count, dtype: int64"
            ]
          },
          "execution_count": 8,
          "metadata": {},
          "output_type": "execute_result"
        }
      ],
      "source": [
        "data.target.value_counts()"
      ]
    },
    {
      "cell_type": "code",
      "execution_count": 9,
      "id": "406ef8a3",
      "metadata": {
        "colab": {
          "base_uri": "https://localhost:8080/",
          "height": 210
        },
        "id": "406ef8a3",
        "outputId": "6d067b13-e834-4b71-d76c-57f67c7dd984"
      },
      "outputs": [
        {
          "data": {
            "text/plain": [
              "feature_3\n",
              "A    13704\n",
              "C    13680\n",
              "B    13616\n",
              "Name: count, dtype: int64"
            ]
          },
          "execution_count": 9,
          "metadata": {},
          "output_type": "execute_result"
        }
      ],
      "source": [
        "data.feature_3.value_counts()"
      ]
    },
    {
      "cell_type": "markdown",
      "id": "791d41ac",
      "metadata": {
        "id": "791d41ac"
      },
      "source": [
        "## Checking class balance of dataset"
      ]
    },
    {
      "cell_type": "code",
      "execution_count": 10,
      "id": "6425bb0e",
      "metadata": {
        "colab": {
          "base_uri": "https://localhost:8080/",
          "height": 536
        },
        "id": "6425bb0e",
        "outputId": "8edb072c-b027-4690-edda-bf7694b1fe04"
      },
      "outputs": [
        {
          "name": "stdout",
          "output_type": "stream",
          "text": [
            "target\n",
            "0    24682\n",
            "1    16318\n",
            "Name: count, dtype: int64\n"
          ]
        },
        {
          "data": {
            "image/png": "[encoded data removed]",
            "text/plain": [
              "<Figure size 640x480 with 1 Axes>"
            ]
          },
          "metadata": {},
          "output_type": "display_data"
        }
      ],
      "source": [
        "import matplotlib.pyplot as plt\n",
        "\n",
        "\n",
        "print(data['target'].value_counts())\n",
        "\n",
        "\n",
        "data['target'].value_counts().plot(kind='bar')\n",
        "plt.title('Class Distribution')\n",
        "plt.xlabel('Target Class')\n",
        "plt.ylabel('Count')\n",
        "plt.show()\n"
      ]
    },
    {
      "cell_type": "code",
      "execution_count": 11,
      "id": "579be337",
      "metadata": {
        "colab": {
          "base_uri": "https://localhost:8080/",
          "height": 363
        },
        "id": "579be337",
        "outputId": "1d12ab1e-1a53-4388-c0e7-8b877886a476"
      },
      "outputs": [
        {
          "data": {
            "text/html": [
              "<div>\n",
              "<style scoped>\n",
              "    .dataframe tbody tr th:only-of-type {\n",
              "        vertical-align: middle;\n",
              "    }\n",
              "\n",
              "    .dataframe tbody tr th {\n",
              "        vertical-align: top;\n",
              "    }\n",
              "\n",
              "    .dataframe thead th {\n",
              "        text-align: right;\n",
              "    }\n",
              "</style>\n",
              "<table border=\"1\" class=\"dataframe\">\n",
              "  <thead>\n",
              "    <tr style=\"text-align: right;\">\n",
              "      <th></th>\n",
              "      <th>feature_1</th>\n",
              "      <th>feature_2</th>\n",
              "      <th>feature_3</th>\n",
              "      <th>feature_4</th>\n",
              "      <th>feature_5</th>\n",
              "      <th>feature_6</th>\n",
              "      <th>feature_7</th>\n",
              "      <th>target</th>\n",
              "    </tr>\n",
              "  </thead>\n",
              "  <tbody>\n",
              "    <tr>\n",
              "      <th>0</th>\n",
              "      <td>27.750000</td>\n",
              "      <td>55.00000</td>\n",
              "      <td>B</td>\n",
              "      <td>875.98</td>\n",
              "      <td>No</td>\n",
              "      <td>8</td>\n",
              "      <td>44.160000</td>\n",
              "      <td>0</td>\n",
              "    </tr>\n",
              "    <tr>\n",
              "      <th>1</th>\n",
              "      <td>31.330000</td>\n",
              "      <td>39.00000</td>\n",
              "      <td>C</td>\n",
              "      <td>839.91</td>\n",
              "      <td>No</td>\n",
              "      <td>4</td>\n",
              "      <td>13.930000</td>\n",
              "      <td>1</td>\n",
              "    </tr>\n",
              "    <tr>\n",
              "      <th>2</th>\n",
              "      <td>23.870000</td>\n",
              "      <td>10.00000</td>\n",
              "      <td>A</td>\n",
              "      <td>1364.70</td>\n",
              "      <td>Yes</td>\n",
              "      <td>4</td>\n",
              "      <td>15.160000</td>\n",
              "      <td>0</td>\n",
              "    </tr>\n",
              "    <tr>\n",
              "      <th>3</th>\n",
              "      <td>35.640000</td>\n",
              "      <td>34.00000</td>\n",
              "      <td>C</td>\n",
              "      <td>1462.07</td>\n",
              "      <td>No</td>\n",
              "      <td>4</td>\n",
              "      <td>15.710000</td>\n",
              "      <td>1</td>\n",
              "    </tr>\n",
              "    <tr>\n",
              "      <th>4</th>\n",
              "      <td>29.990843</td>\n",
              "      <td>49.43656</td>\n",
              "      <td>C</td>\n",
              "      <td>710.61</td>\n",
              "      <td>No</td>\n",
              "      <td>8</td>\n",
              "      <td>13.770000</td>\n",
              "      <td>1</td>\n",
              "    </tr>\n",
              "    <tr>\n",
              "      <th>5</th>\n",
              "      <td>28.000000</td>\n",
              "      <td>99.00000</td>\n",
              "      <td>B</td>\n",
              "      <td>855.72</td>\n",
              "      <td>Yes</td>\n",
              "      <td>3</td>\n",
              "      <td>23.145819</td>\n",
              "      <td>0</td>\n",
              "    </tr>\n",
              "    <tr>\n",
              "      <th>6</th>\n",
              "      <td>28.460000</td>\n",
              "      <td>29.00000</td>\n",
              "      <td>C</td>\n",
              "      <td>853.70</td>\n",
              "      <td>No</td>\n",
              "      <td>5</td>\n",
              "      <td>22.650000</td>\n",
              "      <td>0</td>\n",
              "    </tr>\n",
              "    <tr>\n",
              "      <th>7</th>\n",
              "      <td>29.210000</td>\n",
              "      <td>59.00000</td>\n",
              "      <td>C</td>\n",
              "      <td>1122.96</td>\n",
              "      <td>No</td>\n",
              "      <td>6</td>\n",
              "      <td>4.750000</td>\n",
              "      <td>0</td>\n",
              "    </tr>\n",
              "    <tr>\n",
              "      <th>8</th>\n",
              "      <td>34.030000</td>\n",
              "      <td>18.00000</td>\n",
              "      <td>C</td>\n",
              "      <td>1289.26</td>\n",
              "      <td>Yes</td>\n",
              "      <td>2</td>\n",
              "      <td>24.100000</td>\n",
              "      <td>0</td>\n",
              "    </tr>\n",
              "    <tr>\n",
              "      <th>9</th>\n",
              "      <td>42.650000</td>\n",
              "      <td>47.00000</td>\n",
              "      <td>A</td>\n",
              "      <td>1600.50</td>\n",
              "      <td>No</td>\n",
              "      <td>7</td>\n",
              "      <td>2.070000</td>\n",
              "      <td>1</td>\n",
              "    </tr>\n",
              "  </tbody>\n",
              "</table>\n",
              "</div>"
            ],
            "text/plain": [
              "   feature_1  feature_2 feature_3  feature_4 feature_5  feature_6  feature_7  \\\n",
              "0  27.750000   55.00000         B     875.98        No          8  44.160000   \n",
              "1  31.330000   39.00000         C     839.91        No          4  13.930000   \n",
              "2  23.870000   10.00000         A    1364.70       Yes          4  15.160000   \n",
              "3  35.640000   34.00000         C    1462.07        No          4  15.710000   \n",
              "4  29.990843   49.43656         C     710.61        No          8  13.770000   \n",
              "5  28.000000   99.00000         B     855.72       Yes          3  23.145819   \n",
              "6  28.460000   29.00000         C     853.70        No          5  22.650000   \n",
              "7  29.210000   59.00000         C    1122.96        No          6   4.750000   \n",
              "8  34.030000   18.00000         C    1289.26       Yes          2  24.100000   \n",
              "9  42.650000   47.00000         A    1600.50        No          7   2.070000   \n",
              "\n",
              "   target  \n",
              "0       0  \n",
              "1       1  \n",
              "2       0  \n",
              "3       1  \n",
              "4       1  \n",
              "5       0  \n",
              "6       0  \n",
              "7       0  \n",
              "8       0  \n",
              "9       1  "
            ]
          },
          "execution_count": 11,
          "metadata": {},
          "output_type": "execute_result"
        }
      ],
      "source": [
        "data.head(10)"
      ]
    },
    {
      "cell_type": "markdown",
      "id": "c5f83815",
      "metadata": {
        "id": "c5f83815"
      },
      "source": [
        "### One hot encoding of feature 3 and feature 5"
      ]
    },
    {
      "cell_type": "code",
      "execution_count": 12,
      "id": "9fcd05f3",
      "metadata": {
        "id": "9fcd05f3"
      },
      "outputs": [],
      "source": [
        "#one hot encoding of feature 3\n",
        "# from sklearn.preprocessing import OneHotEncoder\n",
        "import pandas as pd\n",
        "encoded_1 = pd.get_dummies(data['feature_3'])\n",
        "encoded_2 = pd.get_dummies(data['feature_5'])"
      ]
    },
    {
      "cell_type": "code",
      "execution_count": null,
      "id": "EREUHHK0CKRO",
      "metadata": {
        "id": "EREUHHK0CKRO"
      },
      "outputs": [],
      "source": []
    },
    {
      "cell_type": "code",
      "execution_count": 13,
      "id": "7dc4e878",
      "metadata": {
        "colab": {
          "base_uri": "https://localhost:8080/"
        },
        "id": "7dc4e878",
        "outputId": "a9c08656-5b1b-4873-d186-8ffe958e7c72"
      },
      "outputs": [
        {
          "name": "stdout",
          "output_type": "stream",
          "text": [
            "          No    Yes\n",
            "0       True  False\n",
            "1       True  False\n",
            "2      False   True\n",
            "3       True  False\n",
            "4       True  False\n",
            "...      ...    ...\n",
            "40995  False   True\n",
            "40996   True  False\n",
            "40997  False   True\n",
            "40998  False   True\n",
            "40999  False   True\n",
            "\n",
            "[41000 rows x 2 columns]\n"
          ]
        }
      ],
      "source": [
        "print(encoded_2)"
      ]
    },
    {
      "cell_type": "markdown",
      "id": "0b819b5e",
      "metadata": {
        "id": "0b819b5e"
      },
      "source": [
        "###  Importing all neccessary libraries for data standardization, splitting and model training\n"
      ]
    },
    {
      "cell_type": "code",
      "execution_count": 14,
      "id": "529cecf3",
      "metadata": {
        "id": "529cecf3"
      },
      "outputs": [],
      "source": [
        "import pandas as pd\n",
        "from sklearn.model_selection import train_test_split\n",
        "from sklearn.linear_model import LogisticRegression\n",
        "from sklearn.preprocessing import LabelEncoder, StandardScaler\n",
        "from sklearn.metrics import accuracy_score, classification_report, confusion_matrix\n",
        "from sklearn.utils import class_weight\n",
        "import numpy as np\n",
        "import time"
      ]
    },
    {
      "cell_type": "markdown",
      "id": "1d949608",
      "metadata": {
        "id": "1d949608"
      },
      "source": [
        "### Standardazing and splittng data for training Testing Purposes\n"
      ]
    },
    {
      "cell_type": "code",
      "execution_count": 15,
      "id": "6bcc1ac6",
      "metadata": {
        "id": "6bcc1ac6"
      },
      "outputs": [],
      "source": [
        "\n",
        "#loading data\n",
        "df = pd.DataFrame(data)\n",
        "\n",
        "#encoding categorical variable\n",
        "#Label Encode 'feature_5' (Yes/No)\n",
        "le = LabelEncoder()\n",
        "df['feature_5'] = le.fit_transform(df['feature_5'])\n",
        "\n",
        "#one hot encoding 'feature_3' (A, B, C)\n",
        "df = pd.get_dummies(df, columns=['feature_3'], drop_first=True)\n",
        "\n",
        "#separating features and target\n",
        "X = df.drop('target', axis=1)\n",
        "y = df['target']\n",
        "\n",
        "#standardizing features for model training\n",
        "scaler = StandardScaler()\n",
        "X_scaled = X\n",
        "\n",
        "#train/Test split\n",
        "X_train, X_test, y_train, y_test = train_test_split(X_scaled, y, test_size=0.3, random_state=42, stratify=y)\n",
        "\n",
        "#Handle Class Imbalance (if any)\n",
        "weights = class_weight.compute_class_weight('balanced', classes=np.array([0, 1]), y=y_train)\n",
        "class_weights = {0: weights[0], 1: weights[1]}\n"
      ]
    },
    {
      "cell_type": "markdown",
      "id": "fa62ecfa",
      "metadata": {
        "id": "fa62ecfa"
      },
      "source": [
        "## Using Logistic Regression"
      ]
    },
    {
      "cell_type": "code",
      "execution_count": 16,
      "id": "2ef1f453",
      "metadata": {
        "colab": {
          "base_uri": "https://localhost:8080/"
        },
        "id": "2ef1f453",
        "outputId": "100f9e33-8d9b-4bef-e299-036c60043b79"
      },
      "outputs": [
        {
          "name": "stdout",
          "output_type": "stream",
          "text": [
            "Execution time of model is 1.8821704387664795sec\n",
            "Accuracy: 0.5042276422764228\n",
            "\n",
            "Classification Report:\n",
            "               precision    recall  f1-score   support\n",
            "\n",
            "           0       0.61      0.51      0.55      7405\n",
            "           1       0.40      0.50      0.45      4895\n",
            "\n",
            "    accuracy                           0.50     12300\n",
            "   macro avg       0.50      0.50      0.50     12300\n",
            "weighted avg       0.52      0.50      0.51     12300\n",
            "\n",
            "\n",
            "Confusion Matrix:\n",
            " [[3754 3651]\n",
            " [2447 2448]]\n"
          ]
        }
      ],
      "source": [
        "start_time = time.time()\n",
        "\n",
        "#Training Logistic Regression model\n",
        "model = LogisticRegression(C=0.7, class_weight=class_weights, max_iter=1000)\n",
        "model.fit(X_train, y_train)\n",
        "end_time = time.time()\n",
        "lr_time = end_time - start_time\n",
        "\n",
        "y_pred = model.predict(X_test)\n",
        "acc = accuracy_score(y_test, y_pred)\n",
        "print(f\"Execution time of model is {lr_time}sec\")\n",
        "print(\"Accuracy:\", acc)\n",
        "print(\"\\nClassification Report:\\n\", classification_report(y_test, y_pred))\n",
        "print(\"\\nConfusion Matrix:\\n\", confusion_matrix(y_test, y_pred))\n"
      ]
    },
    {
      "cell_type": "code",
      "execution_count": 17,
      "id": "1559abe0",
      "metadata": {
        "id": "1559abe0",
        "outputId": "01e31e81-0be0-488e-e063-f7753b7cc8ae"
      },
      "outputs": [
        {
          "data": {
            "text/plain": [
              "(41000, 8)"
            ]
          },
          "execution_count": 17,
          "metadata": {},
          "output_type": "execute_result"
        }
      ],
      "source": [
        "data.shape"
      ]
    },
    {
      "cell_type": "markdown",
      "id": "c3508a7b",
      "metadata": {
        "id": "c3508a7b"
      },
      "source": [
        "## Using Desicion Tree"
      ]
    },
    {
      "cell_type": "code",
      "execution_count": 18,
      "id": "0194d67d",
      "metadata": {
        "colab": {
          "base_uri": "https://localhost:8080/"
        },
        "id": "0194d67d",
        "outputId": "0e1b1487-bea8-466e-ec04-0285a467561d"
      },
      "outputs": [
        {
          "name": "stdout",
          "output_type": "stream",
          "text": [
            "Execution time serially is 9.143174648284912sec \n",
            "Accuracy: 0.5921951219512195\n",
            "\n",
            "Classification Report:\n",
            "               precision    recall  f1-score   support\n",
            "\n",
            "           0       0.61      0.86      0.72      7405\n",
            "           1       0.47      0.18      0.26      4895\n",
            "\n",
            "    accuracy                           0.59     12300\n",
            "   macro avg       0.54      0.52      0.49     12300\n",
            "weighted avg       0.56      0.59      0.54     12300\n",
            "\n",
            "\n",
            "Confusion Matrix:\n",
            " [[6400 1005]\n",
            " [4011  884]]\n"
          ]
        }
      ],
      "source": [
        "\n",
        "from sklearn.ensemble import RandomForestClassifier\n",
        "from sklearn.preprocessing import LabelEncoder, StandardScaler\n",
        "from sklearn.metrics import accuracy_score, classification_report, confusion_matrix\n",
        "from sklearn.utils import class_weight\n",
        "\n",
        "\n",
        "\n",
        "start_time = time.time()\n",
        "# training using random forest model\n",
        "model = RandomForestClassifier(class_weight='balanced', n_estimators=100, random_state=42)\n",
        "model.fit(X_train, y_train)\n",
        "end_time = time.time()\n",
        "lr_time = end_time - start_time\n",
        "# prediction of result\n",
        "y_pred = model.predict(X_test)\n",
        "acc = accuracy_score(y_test, y_pred)\n",
        "print(f\"Execution time serially is {lr_time}sec \")\n",
        "print(\"Accuracy:\", acc)\n",
        "print(\"\\nClassification Report:\\n\", classification_report(y_test, y_pred))\n",
        "print(\"\\nConfusion Matrix:\\n\", confusion_matrix(y_test, y_pred))\n"
      ]
    },
    {
      "cell_type": "markdown",
      "id": "94c9b169",
      "metadata": {
        "id": "94c9b169"
      },
      "source": [
        "## Using Xgboost"
      ]
    },
    {
      "cell_type": "code",
      "execution_count": 19,
      "id": "107c7334",
      "metadata": {
        "colab": {
          "base_uri": "https://localhost:8080/"
        },
        "id": "107c7334",
        "outputId": "b1ced7b8-67b0-461b-be0a-ed71843af4be"
      },
      "outputs": [
        {
          "name": "stdout",
          "output_type": "stream",
          "text": [
            "Requirement already satisfied: xgboost in c:\\users\\shahz\\appdata\\local\\packages\\pythonsoftwarefoundation.python.3.10_qbz5n2kfra8p0\\localcache\\local-packages\\python310\\site-packages (2.1.3)\n",
            "Requirement already satisfied: scipy in c:\\users\\shahz\\appdata\\local\\packages\\pythonsoftwarefoundation.python.3.10_qbz5n2kfra8p0\\localcache\\local-packages\\python310\\site-packages (from xgboost) (1.15.1)\n",
            "Requirement already satisfied: numpy in c:\\users\\shahz\\appdata\\local\\packages\\pythonsoftwarefoundation.python.3.10_qbz5n2kfra8p0\\localcache\\local-packages\\python310\\site-packages (from xgboost) (2.0.2)\n",
            "Note: you may need to restart the kernel to use updated packages.\n"
          ]
        },
        {
          "name": "stderr",
          "output_type": "stream",
          "text": [
            "\n",
            "[notice] A new release of pip is available: 23.0.1 -> 25.0.1\n",
            "[notice] To update, run: C:\\Users\\Shahz\\AppData\\Local\\Microsoft\\WindowsApps\\PythonSoftwareFoundation.Python.3.10_qbz5n2kfra8p0\\python.exe -m pip install --upgrade pip\n"
          ]
        }
      ],
      "source": [
        "pip install xgboost\n"
      ]
    },
    {
      "cell_type": "code",
      "execution_count": 20,
      "id": "00d089fd",
      "metadata": {
        "colab": {
          "base_uri": "https://localhost:8080/"
        },
        "id": "00d089fd",
        "outputId": "bba96635-51c3-418a-eea4-b176c9b813ab"
      },
      "outputs": [
        {
          "name": "stdout",
          "output_type": "stream",
          "text": [
            "\n",
            "Training XGBoost...\n"
          ]
        },
        {
          "name": "stderr",
          "output_type": "stream",
          "text": [
            "C:\\Users\\Shahz\\AppData\\Local\\Packages\\PythonSoftwareFoundation.Python.3.10_qbz5n2kfra8p0\\LocalCache\\local-packages\\Python310\\site-packages\\xgboost\\core.py:158: UserWarning: [15:14:14] WARNING: C:\\buildkite-agent\\builds\\buildkite-windows-cpu-autoscaling-group-i-0c55ff5f71b100e98-1\\xgboost\\xgboost-ci-windows\\src\\learner.cc:740: \n",
            "Parameters: { \"use_label_encoder\" } are not used.\n",
            "\n",
            "  warnings.warn(smsg, UserWarning)\n"
          ]
        },
        {
          "name": "stdout",
          "output_type": "stream",
          "text": [
            "XGBoost Accuracy: 0.5995121951219512\n",
            "Execution Time: 0.5434 seconds\n",
            "\n",
            "Classification Report (XGBoost):\n",
            "               precision    recall  f1-score   support\n",
            "\n",
            "           0       0.60      0.99      0.75      7405\n",
            "           1       0.36      0.01      0.02      4895\n",
            "\n",
            "    accuracy                           0.60     12300\n",
            "   macro avg       0.48      0.50      0.38     12300\n",
            "weighted avg       0.50      0.60      0.46     12300\n",
            "\n",
            "\n",
            "Confusion Matrix (XGBoost):\n",
            " [[7336   69]\n",
            " [4857   38]]\n"
          ]
        }
      ],
      "source": [
        "import xgboost as xgb\n",
        "print(\"\\nTraining XGBoost...\")\n",
        "\n",
        "start_time = time.time()\n",
        "\n",
        "xgb_model = xgb.XGBClassifier(\n",
        "    scale_pos_weight=weights[0]/weights[1],  #handling imbalance\n",
        "    n_estimators=100,\n",
        "    learning_rate=0.1,\n",
        "    max_depth=6,\n",
        "    random_state=42,\n",
        "    use_label_encoder=False,  #avoid warning\n",
        "    eval_metric='logloss'\n",
        ")\n",
        "\n",
        "xgb_model.fit(X_train, y_train)\n",
        "\n",
        "end_time = time.time()\n",
        "xgb_time = end_time - start_time\n",
        "\n",
        "#predict and evaluate\n",
        "y_pred_xgb = xgb_model.predict(X_test)\n",
        "xgb_acc = accuracy_score(y_test, y_pred_xgb)\n",
        "\n",
        "print(\"XGBoost Accuracy:\", xgb_acc)\n",
        "print(\"Execution Time: {:.4f} seconds\".format(xgb_time))\n",
        "print(\"\\nClassification Report (XGBoost):\\n\", classification_report(y_test, y_pred_xgb))\n",
        "print(\"\\nConfusion Matrix (XGBoost):\\n\", confusion_matrix(y_test, y_pred_xgb))\n",
        "\n"
      ]
    },
    {
      "cell_type": "markdown",
      "id": "95c6a956",
      "metadata": {
        "id": "95c6a956"
      },
      "source": [
        "### Training Using neural Network"
      ]
    },
    {
      "cell_type": "code",
      "execution_count": null,
      "id": "49ffb955",
      "metadata": {
        "id": "49ffb955"
      },
      "outputs": [],
      "source": []
    },
    {
      "cell_type": "code",
      "execution_count": 21,
      "id": "036e9b6d",
      "metadata": {
        "colab": {
          "base_uri": "https://localhost:8080/"
        },
        "id": "036e9b6d",
        "outputId": "c340fcfd-4259-43f9-8330-b231a70e5324"
      },
      "outputs": [
        {
          "name": "stdout",
          "output_type": "stream",
          "text": [
            "Epoch [10/50], Loss: 0.6742\n",
            "Epoch [20/50], Loss: 0.6728\n",
            "Epoch [30/50], Loss: 0.6721\n",
            "Epoch [40/50], Loss: 0.6717\n",
            "Epoch [50/50], Loss: 0.6716\n",
            "\n",
            "Neural Network Accuracy: 0.601869918699187\n",
            "Execution Time: 0.9708 seconds\n",
            "\n",
            "Classification Report:\n",
            "               precision    recall  f1-score   support\n",
            "\n",
            "         0.0       0.60      1.00      0.75      7405\n",
            "         1.0       0.00      0.00      0.00      4895\n",
            "\n",
            "    accuracy                           0.60     12300\n",
            "   macro avg       0.30      0.50      0.38     12300\n",
            "weighted avg       0.36      0.60      0.45     12300\n",
            "\n",
            "\n",
            "Confusion Matrix:\n",
            " [[7403    2]\n",
            " [4895    0]]\n"
          ]
        }
      ],
      "source": [
        "import pandas as pd\n",
        "import numpy as np\n",
        "import torch\n",
        "import torch.nn as nn\n",
        "import torch.optim as optim\n",
        "from sklearn.model_selection import train_test_split\n",
        "from sklearn.preprocessing import LabelEncoder, StandardScaler\n",
        "from sklearn.utils import class_weight\n",
        "from sklearn.metrics import accuracy_score, classification_report, confusion_matrix\n",
        "import time\n",
        "\n",
        "# Step 1: Load and Preprocess Data\n",
        "df = pd.DataFrame(data)\n",
        "\n",
        "# Encode categorical variables\n",
        "le = LabelEncoder()\n",
        "df['feature_5'] = le.fit_transform(df['feature_5'])\n",
        "df = pd.get_dummies(df, columns=['feature_3'], drop_first=True)\n",
        "\n",
        "X = df.drop('target', axis=1)\n",
        "y = df['target']\n",
        "\n",
        "# Standardize the features\n",
        "scaler = StandardScaler()\n",
        "X_scaled = scaler.fit_transform(X)\n",
        "\n",
        "# Train-test split\n",
        "X_train, X_test, y_train, y_test = train_test_split(X_scaled, y, test_size=0.3, random_state=42, stratify=y)\n",
        "\n",
        "# Convert to PyTorch tensors\n",
        "X_train_tensor = torch.tensor(X_train, dtype=torch.float32)\n",
        "X_test_tensor = torch.tensor(X_test, dtype=torch.float32)\n",
        "y_train_tensor = torch.tensor(y_train.values, dtype=torch.float32).view(-1, 1)\n",
        "y_test_tensor = torch.tensor(y_test.values, dtype=torch.float32).view(-1, 1)\n",
        "\n",
        "# Step 2: Define Neural Network\n",
        "class NeuralNet(nn.Module):\n",
        "    def __init__(self, input_size):\n",
        "        super(NeuralNet, self).__init__()\n",
        "        self.fc1 = nn.Linear(input_size, 64)\n",
        "        self.relu1 = nn.ReLU()\n",
        "        self.fc2 = nn.Linear(64, 32)\n",
        "        self.relu2 = nn.ReLU()\n",
        "        self.fc3 = nn.Linear(32, 1)\n",
        "        self.sigmoid = nn.Sigmoid()\n",
        "\n",
        "    def forward(self, x):\n",
        "        out = self.fc1(x)\n",
        "        out = self.relu1(out)\n",
        "        out = self.fc2(out)\n",
        "        out = self.relu2(out)\n",
        "        out = self.fc3(out)\n",
        "        out = self.sigmoid(out)\n",
        "        return out\n",
        "\n",
        "input_size = X_train.shape[1]\n",
        "model = NeuralNet(input_size)\n",
        "\n",
        "# Step 3: Define Loss and Optimizer\n",
        "criterion = nn.BCELoss()  # Binary Cross Entropy for binary classification\n",
        "optimizer = optim.Adam(model.parameters(), lr=0.001)\n",
        "\n",
        "# Step 4: Train the Model\n",
        "epochs = 50\n",
        "start_time = time.time()\n",
        "\n",
        "for epoch in range(epochs):\n",
        "    model.train()\n",
        "\n",
        "    optimizer.zero_grad()\n",
        "    outputs = model(X_train_tensor)\n",
        "    loss = criterion(outputs, y_train_tensor)\n",
        "    loss.backward()\n",
        "    optimizer.step()\n",
        "\n",
        "    if (epoch+1) % 10 == 0:\n",
        "        print(f\"Epoch [{epoch+1}/{epochs}], Loss: {loss.item():.4f}\")\n",
        "\n",
        "end_time = time.time()\n",
        "training_time = end_time - start_time\n",
        "\n",
        "# Step 5: Evaluate\n",
        "model.eval()\n",
        "with torch.no_grad():\n",
        "    y_pred_probs = model(X_test_tensor)\n",
        "    y_pred_labels = (y_pred_probs > 0.5).float()\n",
        "\n",
        "# Convert back to numpy for sklearn metrics\n",
        "y_pred_np = y_pred_labels.numpy()\n",
        "y_test_np = y_test_tensor.numpy()\n",
        "\n",
        "acc = accuracy_score(y_test_np, y_pred_np)\n",
        "\n",
        "print(\"\\nNeural Network Accuracy:\", acc)\n",
        "print(\"Execution Time: {:.4f} seconds\".format(training_time))\n",
        "print(\"\\nClassification Report:\\n\", classification_report(y_test_np, y_pred_np))\n",
        "print(\"\\nConfusion Matrix:\\n\", confusion_matrix(y_test_np, y_pred_np))\n"
      ]
    },
    {
      "cell_type": "code",
      "execution_count": null,
      "id": "qPrGtEUV91Hp",
      "metadata": {
        "id": "qPrGtEUV91Hp"
      },
      "outputs": [],
      "source": []
    },
    {
      "cell_type": "code",
      "execution_count": null,
      "id": "l0VaWzS791KT",
      "metadata": {
        "id": "l0VaWzS791KT"
      },
      "outputs": [],
      "source": []
    },
    {
      "cell_type": "code",
      "execution_count": null,
      "id": "85hbKTkS91NC",
      "metadata": {
        "id": "85hbKTkS91NC"
      },
      "outputs": [],
      "source": []
    },
    {
      "cell_type": "markdown",
      "id": "tvRdsQu9AAB5",
      "metadata": {
        "id": "tvRdsQu9AAB5"
      },
      "source": [
        "# We have tried Traditional ML models with serial model training pipeline now we will try Deep learning model in parallel and serial both ways"
      ]
    },
    {
      "cell_type": "code",
      "execution_count": null,
      "id": "2YgKXCBE91QK",
      "metadata": {
        "id": "2YgKXCBE91QK"
      },
      "outputs": [],
      "source": []
    },
    {
      "cell_type": "code",
      "execution_count": 22,
      "id": "vBZNVvi091S1",
      "metadata": {
        "id": "vBZNVvi091S1"
      },
      "outputs": [],
      "source": [
        "import os\n",
        "import time\n",
        "import pandas as pd\n",
        "import numpy as np\n",
        "\n",
        "from sklearn.preprocessing import LabelEncoder, StandardScaler\n",
        "from sklearn.metrics import accuracy_score, f1_score, confusion_matrix, classification_report\n",
        "\n",
        "import torch\n",
        "import torch.nn as nn\n",
        "import torch.optim as optim\n",
        "from torch.utils.data import DataLoader, TensorDataset, WeightedRandomSampler\n",
        "\n",
        "\n",
        "# --> CONFIGURE CPU MULTITHREADING\n",
        "#--> (so PyTorch will parallelize its BLAS/OpenMP kernels across CPU threads)\n",
        "N_THREADS = 4\n",
        "os.environ[\"OMP_NUM_THREADS\"]   = str(N_THREADS)\n",
        "os.environ[\"MKL_NUM_THREADS\"]   = str(N_THREADS)\n",
        "torch.set_num_threads(N_THREADS)\n",
        "torch.set_num_interop_threads(N_THREADS)\n",
        "\n"
      ]
    },
    {
      "cell_type": "code",
      "execution_count": 23,
      "id": "6NPMI9y6G562",
      "metadata": {
        "id": "6NPMI9y6G562"
      },
      "outputs": [],
      "source": [
        "# --> 1. Data Loading & Preprocessing\n",
        "def load_and_preprocess(path):\n",
        "  df = pd.read_csv(path)\n",
        "\n",
        "  # Fill missing values with column means\n",
        "  for col in ['feature_1', 'feature_2', 'feature_4', 'feature_7']:\n",
        "      df[col].fillna(df[col].mean(), inplace=True)\n",
        "\n",
        "  # Label encode feature_5 (Yes/No)\n",
        "  df['feature_5'] = LabelEncoder().fit_transform(df['feature_5'])\n",
        "\n",
        "  # One-hot encode feature_3 (drop first to avoid dummy trap)\n",
        "  df = pd.get_dummies(df, columns=['feature_3'], drop_first=True)\n",
        "\n",
        "  # Separate features and target\n",
        "  X = df.drop('target', axis=1).values.astype(np.float32)\n",
        "  y = df['target'].values.astype(np.int64)\n",
        "\n",
        "  # Standardize all features\n",
        "  X = StandardScaler().fit_transform(X)\n",
        "\n",
        "  return X, y\n"
      ]
    },
    {
      "cell_type": "code",
      "execution_count": 24,
      "id": "FFyqmFFNG5-i",
      "metadata": {
        "id": "FFyqmFFNG5-i"
      },
      "outputs": [],
      "source": [
        "\n",
        "# --> 2. Dataset & DataLoader\n",
        "def make_dataloader(X, y, batch_size, num_workers):\n",
        "  ds = TensorDataset(torch.from_numpy(X), torch.from_numpy(y))\n",
        "  loader = DataLoader(ds, batch_size=batch_size, shuffle=True, num_workers=num_workers, pin_memory=True)\n",
        "  return loader\n",
        "\n",
        "\n"
      ]
    },
    {
      "cell_type": "code",
      "execution_count": 25,
      "id": "2Bsxk1pbG6Bh",
      "metadata": {
        "id": "2Bsxk1pbG6Bh"
      },
      "outputs": [],
      "source": [
        "# --> 3. Model Definition\n",
        "def build_mlp(input_dim):\n",
        "  return nn.Sequential(\n",
        "      nn.Linear(input_dim, 128), nn.ReLU(),    nn.Dropout(0.3),\n",
        "      nn.Linear(128,      64),  nn.ReLU(),    nn.Dropout(0.3),\n",
        "      nn.Linear(64,       32),  nn.ReLU(),    nn.Dropout(0.3),\n",
        "      nn.Linear(32,        1)   # raw logit\n",
        "  )\n",
        "\n",
        "# --> 4. Training & Evaluation\n",
        "def train_epoch(model, loader, criterion, optimizer, device):\n",
        "  model.train()\n",
        "  total_loss = 0.0\n",
        "  for Xb, yb in loader:\n",
        "    Xb = Xb.to(device)\n",
        "    yb = yb.to(device).float().unsqueeze(1)\n",
        "    optimizer.zero_grad()\n",
        "    logits = model(Xb)\n",
        "    loss = criterion(logits, yb)\n",
        "    loss.backward()\n",
        "    optimizer.step()\n",
        "    total_loss += loss.item() * Xb.size(0)\n",
        "  return total_loss / len(loader.dataset)\n",
        "\n",
        "\n"
      ]
    },
    {
      "cell_type": "code",
      "execution_count": 26,
      "id": "tHcBc_SyG6EV",
      "metadata": {
        "id": "tHcBc_SyG6EV"
      },
      "outputs": [],
      "source": [
        "@torch.no_grad()\n",
        "def evaluate(model, loader, device):\n",
        "  model.eval()\n",
        "  all_preds, all_labels = [], []\n",
        "  for Xb, yb in loader:\n",
        "    Xb = Xb.to(device)\n",
        "    logits = model(Xb)\n",
        "    probs  = torch.sigmoid(logits).cpu().numpy().flatten()\n",
        "    preds  = (probs > 0.5).astype(int)\n",
        "    all_preds.append(preds)\n",
        "    all_labels.append(yb.numpy())\n",
        "  y_true = np.concatenate(all_labels)\n",
        "  y_pred = np.concatenate(all_preds)\n",
        "\n",
        "  return {\n",
        "    'accuracy': accuracy_score(y_true, y_pred),\n",
        "    'f1':       f1_score(y_true, y_pred),\n",
        "    'cm':       confusion_matrix(y_true, y_pred),\n",
        "    'report':   classification_report(y_true, y_pred)\n",
        "  }\n"
      ]
    },
    {
      "cell_type": "code",
      "execution_count": 27,
      "id": "bGaeh70AG6HC",
      "metadata": {
        "id": "bGaeh70AG6HC"
      },
      "outputs": [],
      "source": [
        "# --> 5. Experiment Runner\n",
        "def run_experiments(path):\n",
        "  X, y = load_and_preprocess(path)\n",
        "  split = int(0.7 * len(y))\n",
        "  X_tr, X_te = X[:split], X[split:]\n",
        "  y_tr, y_te = y[:split], y[split:]\n",
        "  input_dim = X_tr.shape[1]\n",
        "  batch_size = 64\n",
        "\n",
        "  # build weighted sampler for minority class\n",
        "  class_counts  = np.bincount(y_tr)\n",
        "  class_weights = 1.0 / class_counts\n",
        "  sample_weights= class_weights[y_tr]\n",
        "  sampler = WeightedRandomSampler(\n",
        "    weights=sample_weights,\n",
        "    num_samples=len(sample_weights),\n",
        "    replacement=True\n",
        "  )\n",
        "\n",
        "  # compute pos_weight for BCEWithLogitsLoss\n",
        "  neg, pos = class_counts[0], class_counts[1]\n",
        "  pos_weight = torch.tensor(neg / pos)\n",
        "\n",
        "  configs = [\n",
        "    {'name':'cpu_serial',   'device':'cpu',  'workers':0, 'dp':False},\n",
        "    {'name':'cpu_parallel', 'device':'cpu',  'workers':4, 'dp':False},\n",
        "    {'name':'gpu_serial',   'device':'cuda','workers':0, 'dp':False},\n",
        "    {'name':'gpu_dp',       'device':'cuda','workers':4, 'dp':True},\n",
        "  ]\n",
        "\n",
        "  results = []\n",
        "  for cfg in configs:\n",
        "    dev = torch.device(cfg['device'] if torch.cuda.is_available() else 'cpu')\n",
        "\n",
        "    # train loader with sampler (no shuffle)\n",
        "    train_ds    = TensorDataset(torch.from_numpy(X_tr), torch.from_numpy(y_tr))\n",
        "    train_loader= DataLoader(train_ds,\n",
        "                              batch_size=batch_size,\n",
        "                              sampler=sampler,\n",
        "                              num_workers=cfg['workers'],\n",
        "                              pin_memory=True)\n",
        "\n",
        "    # test loader\n",
        "    test_loader = make_dataloader(X_te, y_te, batch_size, cfg['workers'])\n",
        "\n",
        "    # model & loss\n",
        "    model   = build_mlp(input_dim).to(dev)\n",
        "    if cfg['dp'] and torch.cuda.device_count()>1:\n",
        "      model = nn.DataParallel(model)\n",
        "    optimizer = optim.Adam(model.parameters(), lr=1e-3)\n",
        "    criterion = nn.BCEWithLogitsLoss(pos_weight=pos_weight.to(dev))\n",
        "\n",
        "    print(f\"\\n--> {cfg['name']} on {dev}, workers={cfg['workers']}\")\n",
        "    t0 = time.time()\n",
        "    # train for 20 epochs\n",
        "    for ep in range(1, 21):\n",
        "      loss = train_epoch(model, train_loader, criterion, optimizer, dev)\n",
        "      print(f\"  epoch {ep:2d}/20 — loss: {loss:.4f}\")\n",
        "    dur = time.time() - t0\n",
        "\n",
        "    m = evaluate(model, test_loader, dev)\n",
        "    print(f\"  {cfg['name']} done in {dur:.1f}s — acc={m['accuracy']:.4f}, f1={m['f1']:.4f}\")\n",
        "\n",
        "    results.append({\n",
        "        'config':   cfg['name'],\n",
        "        'time_s':   round(dur, 2),\n",
        "        'accuracy': m['accuracy'],\n",
        "        'f1_score': m['f1']\n",
        "    })\n",
        "\n",
        "  summary_df = pd.DataFrame(results)\n",
        "  print(\"\\n****** Summary ******\\n\", summary_df)\n",
        "  return summary_df"
      ]
    },
    {
      "cell_type": "code",
      "execution_count": null,
      "id": "vn0URjGaHrrx",
      "metadata": {
        "id": "vn0URjGaHrrx"
      },
      "outputs": [],
      "source": []
    },
    {
      "cell_type": "code",
      "execution_count": 29,
      "id": "Dc53YpN391Vm",
      "metadata": {
        "colab": {
          "base_uri": "https://localhost:8080/"
        },
        "id": "Dc53YpN391Vm",
        "outputId": "8da29084-44ec-4df7-fc15-94ac4ae48c12"
      },
      "outputs": [
        {
          "name": "stderr",
          "output_type": "stream",
          "text": [
            "C:\\Users\\Shahz\\AppData\\Local\\Temp\\ipykernel_8048\\1621733323.py:7: FutureWarning: A value is trying to be set on a copy of a DataFrame or Series through chained assignment using an inplace method.\n",
            "The behavior will change in pandas 3.0. This inplace method will never work because the intermediate object on which we are setting values always behaves as a copy.\n",
            "\n",
            "For example, when doing 'df[col].method(value, inplace=True)', try using 'df.method({col: value}, inplace=True)' or df[col] = df[col].method(value) instead, to perform the operation inplace on the original object.\n",
            "\n",
            "\n",
            "  df[col].fillna(df[col].mean(), inplace=True)\n",
            "C:\\Users\\Shahz\\AppData\\Local\\Packages\\PythonSoftwareFoundation.Python.3.10_qbz5n2kfra8p0\\LocalCache\\local-packages\\Python310\\site-packages\\torch\\utils\\data\\dataloader.py:665: UserWarning: 'pin_memory' argument is set as true but no accelerator is found, then device pinned memory won't be used.\n",
            "  warnings.warn(warn_msg)\n"
          ]
        },
        {
          "name": "stdout",
          "output_type": "stream",
          "text": [
            "\n",
            "--> cpu_serial on cpu, workers=0\n",
            "  epoch  1/20 — loss: 0.8514\n",
            "  epoch  2/20 — loss: 0.8497\n",
            "  epoch  3/20 — loss: 0.8488\n",
            "  epoch  4/20 — loss: 0.8480\n",
            "  epoch  5/20 — loss: 0.8485\n",
            "  epoch  6/20 — loss: 0.8484\n",
            "  epoch  7/20 — loss: 0.8473\n",
            "  epoch  8/20 — loss: 0.8480\n",
            "  epoch  9/20 — loss: 0.8473\n",
            "  epoch 10/20 — loss: 0.8475\n",
            "  epoch 11/20 — loss: 0.8467\n",
            "  epoch 12/20 — loss: 0.8481\n",
            "  epoch 13/20 — loss: 0.8474\n",
            "  epoch 14/20 — loss: 0.8478\n",
            "  epoch 15/20 — loss: 0.8472\n",
            "  epoch 16/20 — loss: 0.8470\n",
            "  epoch 17/20 — loss: 0.8476\n",
            "  epoch 18/20 — loss: 0.8474\n",
            "  epoch 19/20 — loss: 0.8474\n",
            "  epoch 20/20 — loss: 0.8467\n"
          ]
        },
        {
          "name": "stderr",
          "output_type": "stream",
          "text": [
            "C:\\Users\\Shahz\\AppData\\Local\\Packages\\PythonSoftwareFoundation.Python.3.10_qbz5n2kfra8p0\\LocalCache\\local-packages\\Python310\\site-packages\\sklearn\\metrics\\_classification.py:1565: UndefinedMetricWarning: Precision is ill-defined and being set to 0.0 in labels with no predicted samples. Use `zero_division` parameter to control this behavior.\n",
            "  _warn_prf(average, modifier, f\"{metric.capitalize()} is\", len(result))\n",
            "C:\\Users\\Shahz\\AppData\\Local\\Packages\\PythonSoftwareFoundation.Python.3.10_qbz5n2kfra8p0\\LocalCache\\local-packages\\Python310\\site-packages\\sklearn\\metrics\\_classification.py:1565: UndefinedMetricWarning: Precision is ill-defined and being set to 0.0 in labels with no predicted samples. Use `zero_division` parameter to control this behavior.\n",
            "  _warn_prf(average, modifier, f\"{metric.capitalize()} is\", len(result))\n",
            "C:\\Users\\Shahz\\AppData\\Local\\Packages\\PythonSoftwareFoundation.Python.3.10_qbz5n2kfra8p0\\LocalCache\\local-packages\\Python310\\site-packages\\sklearn\\metrics\\_classification.py:1565: UndefinedMetricWarning: Precision is ill-defined and being set to 0.0 in labels with no predicted samples. Use `zero_division` parameter to control this behavior.\n",
            "  _warn_prf(average, modifier, f\"{metric.capitalize()} is\", len(result))\n",
            "C:\\Users\\Shahz\\AppData\\Local\\Packages\\PythonSoftwareFoundation.Python.3.10_qbz5n2kfra8p0\\LocalCache\\local-packages\\Python310\\site-packages\\torch\\utils\\data\\dataloader.py:665: UserWarning: 'pin_memory' argument is set as true but no accelerator is found, then device pinned memory won't be used.\n",
            "  warnings.warn(warn_msg)\n"
          ]
        },
        {
          "name": "stdout",
          "output_type": "stream",
          "text": [
            "  cpu_serial done in 23.2s — acc=0.4036, f1=0.5751\n",
            "\n",
            "--> cpu_parallel on cpu, workers=4\n",
            "  epoch  1/20 — loss: 0.8526\n",
            "  epoch  2/20 — loss: 0.8496\n",
            "  epoch  3/20 — loss: 0.8488\n",
            "  epoch  4/20 — loss: 0.8487\n",
            "  epoch  5/20 — loss: 0.8484\n",
            "  epoch  6/20 — loss: 0.8490\n",
            "  epoch  7/20 — loss: 0.8479\n",
            "  epoch  8/20 — loss: 0.8483\n",
            "  epoch  9/20 — loss: 0.8482\n",
            "  epoch 10/20 — loss: 0.8482\n",
            "  epoch 11/20 — loss: 0.8485\n",
            "  epoch 12/20 — loss: 0.8473\n",
            "  epoch 13/20 — loss: 0.8473\n",
            "  epoch 14/20 — loss: 0.8477\n",
            "  epoch 15/20 — loss: 0.8469\n",
            "  epoch 16/20 — loss: 0.8469\n",
            "  epoch 17/20 — loss: 0.8482\n",
            "  epoch 18/20 — loss: 0.8469\n",
            "  epoch 19/20 — loss: 0.8475\n",
            "  epoch 20/20 — loss: 0.8477\n"
          ]
        },
        {
          "name": "stderr",
          "output_type": "stream",
          "text": [
            "C:\\Users\\Shahz\\AppData\\Local\\Packages\\PythonSoftwareFoundation.Python.3.10_qbz5n2kfra8p0\\LocalCache\\local-packages\\Python310\\site-packages\\sklearn\\metrics\\_classification.py:1565: UndefinedMetricWarning: Precision is ill-defined and being set to 0.0 in labels with no predicted samples. Use `zero_division` parameter to control this behavior.\n",
            "  _warn_prf(average, modifier, f\"{metric.capitalize()} is\", len(result))\n",
            "C:\\Users\\Shahz\\AppData\\Local\\Packages\\PythonSoftwareFoundation.Python.3.10_qbz5n2kfra8p0\\LocalCache\\local-packages\\Python310\\site-packages\\sklearn\\metrics\\_classification.py:1565: UndefinedMetricWarning: Precision is ill-defined and being set to 0.0 in labels with no predicted samples. Use `zero_division` parameter to control this behavior.\n",
            "  _warn_prf(average, modifier, f\"{metric.capitalize()} is\", len(result))\n",
            "C:\\Users\\Shahz\\AppData\\Local\\Packages\\PythonSoftwareFoundation.Python.3.10_qbz5n2kfra8p0\\LocalCache\\local-packages\\Python310\\site-packages\\sklearn\\metrics\\_classification.py:1565: UndefinedMetricWarning: Precision is ill-defined and being set to 0.0 in labels with no predicted samples. Use `zero_division` parameter to control this behavior.\n",
            "  _warn_prf(average, modifier, f\"{metric.capitalize()} is\", len(result))\n",
            "C:\\Users\\Shahz\\AppData\\Local\\Packages\\PythonSoftwareFoundation.Python.3.10_qbz5n2kfra8p0\\LocalCache\\local-packages\\Python310\\site-packages\\torch\\utils\\data\\dataloader.py:665: UserWarning: 'pin_memory' argument is set as true but no accelerator is found, then device pinned memory won't be used.\n",
            "  warnings.warn(warn_msg)\n"
          ]
        },
        {
          "name": "stdout",
          "output_type": "stream",
          "text": [
            "  cpu_parallel done in 116.8s — acc=0.4036, f1=0.5751\n",
            "\n",
            "--> gpu_serial on cpu, workers=0\n",
            "  epoch  1/20 — loss: 0.8514\n",
            "  epoch  2/20 — loss: 0.8492\n",
            "  epoch  3/20 — loss: 0.8493\n",
            "  epoch  4/20 — loss: 0.8486\n",
            "  epoch  5/20 — loss: 0.8480\n",
            "  epoch  6/20 — loss: 0.8487\n",
            "  epoch  7/20 — loss: 0.8478\n",
            "  epoch  8/20 — loss: 0.8490\n",
            "  epoch  9/20 — loss: 0.8482\n",
            "  epoch 10/20 — loss: 0.8481\n",
            "  epoch 11/20 — loss: 0.8491\n",
            "  epoch 12/20 — loss: 0.8479\n",
            "  epoch 13/20 — loss: 0.8482\n",
            "  epoch 14/20 — loss: 0.8482\n",
            "  epoch 15/20 — loss: 0.8479\n",
            "  epoch 16/20 — loss: 0.8480\n",
            "  epoch 17/20 — loss: 0.8464\n",
            "  epoch 18/20 — loss: 0.8470\n",
            "  epoch 19/20 — loss: 0.8469\n",
            "  epoch 20/20 — loss: 0.8476\n"
          ]
        },
        {
          "name": "stderr",
          "output_type": "stream",
          "text": [
            "C:\\Users\\Shahz\\AppData\\Local\\Packages\\PythonSoftwareFoundation.Python.3.10_qbz5n2kfra8p0\\LocalCache\\local-packages\\Python310\\site-packages\\sklearn\\metrics\\_classification.py:1565: UndefinedMetricWarning: Precision is ill-defined and being set to 0.0 in labels with no predicted samples. Use `zero_division` parameter to control this behavior.\n",
            "  _warn_prf(average, modifier, f\"{metric.capitalize()} is\", len(result))\n",
            "C:\\Users\\Shahz\\AppData\\Local\\Packages\\PythonSoftwareFoundation.Python.3.10_qbz5n2kfra8p0\\LocalCache\\local-packages\\Python310\\site-packages\\sklearn\\metrics\\_classification.py:1565: UndefinedMetricWarning: Precision is ill-defined and being set to 0.0 in labels with no predicted samples. Use `zero_division` parameter to control this behavior.\n",
            "  _warn_prf(average, modifier, f\"{metric.capitalize()} is\", len(result))\n",
            "C:\\Users\\Shahz\\AppData\\Local\\Packages\\PythonSoftwareFoundation.Python.3.10_qbz5n2kfra8p0\\LocalCache\\local-packages\\Python310\\site-packages\\sklearn\\metrics\\_classification.py:1565: UndefinedMetricWarning: Precision is ill-defined and being set to 0.0 in labels with no predicted samples. Use `zero_division` parameter to control this behavior.\n",
            "  _warn_prf(average, modifier, f\"{metric.capitalize()} is\", len(result))\n",
            "C:\\Users\\Shahz\\AppData\\Local\\Packages\\PythonSoftwareFoundation.Python.3.10_qbz5n2kfra8p0\\LocalCache\\local-packages\\Python310\\site-packages\\torch\\utils\\data\\dataloader.py:665: UserWarning: 'pin_memory' argument is set as true but no accelerator is found, then device pinned memory won't be used.\n",
            "  warnings.warn(warn_msg)\n"
          ]
        },
        {
          "name": "stdout",
          "output_type": "stream",
          "text": [
            "  gpu_serial done in 55.3s — acc=0.4036, f1=0.5751\n",
            "\n",
            "--> gpu_dp on cpu, workers=4\n",
            "  epoch  1/20 — loss: 0.8564\n",
            "  epoch  2/20 — loss: 0.8521\n",
            "  epoch  3/20 — loss: 0.8504\n",
            "  epoch  4/20 — loss: 0.8493\n",
            "  epoch  5/20 — loss: 0.8493\n",
            "  epoch  6/20 — loss: 0.8488\n",
            "  epoch  7/20 — loss: 0.8489\n",
            "  epoch  8/20 — loss: 0.8471\n",
            "  epoch  9/20 — loss: 0.8475\n",
            "  epoch 10/20 — loss: 0.8477\n",
            "  epoch 11/20 — loss: 0.8479\n",
            "  epoch 12/20 — loss: 0.8477\n",
            "  epoch 13/20 — loss: 0.8474\n",
            "  epoch 14/20 — loss: 0.8484\n",
            "  epoch 15/20 — loss: 0.8468\n",
            "  epoch 16/20 — loss: 0.8472\n",
            "  epoch 17/20 — loss: 0.8469\n",
            "  epoch 18/20 — loss: 0.8479\n",
            "  epoch 19/20 — loss: 0.8479\n",
            "  epoch 20/20 — loss: 0.8469\n",
            "  gpu_dp done in 115.3s — acc=0.4036, f1=0.5751\n",
            "\n",
            "****** Summary ******\n",
            "          config  time_s  accuracy  f1_score\n",
            "0    cpu_serial   23.24  0.403626  0.575119\n",
            "1  cpu_parallel  116.77  0.403626  0.575119\n",
            "2    gpu_serial   55.30  0.403626  0.575119\n",
            "3        gpu_dp  115.26  0.403626  0.575119\n"
          ]
        },
        {
          "name": "stderr",
          "output_type": "stream",
          "text": [
            "C:\\Users\\Shahz\\AppData\\Local\\Packages\\PythonSoftwareFoundation.Python.3.10_qbz5n2kfra8p0\\LocalCache\\local-packages\\Python310\\site-packages\\sklearn\\metrics\\_classification.py:1565: UndefinedMetricWarning: Precision is ill-defined and being set to 0.0 in labels with no predicted samples. Use `zero_division` parameter to control this behavior.\n",
            "  _warn_prf(average, modifier, f\"{metric.capitalize()} is\", len(result))\n",
            "C:\\Users\\Shahz\\AppData\\Local\\Packages\\PythonSoftwareFoundation.Python.3.10_qbz5n2kfra8p0\\LocalCache\\local-packages\\Python310\\site-packages\\sklearn\\metrics\\_classification.py:1565: UndefinedMetricWarning: Precision is ill-defined and being set to 0.0 in labels with no predicted samples. Use `zero_division` parameter to control this behavior.\n",
            "  _warn_prf(average, modifier, f\"{metric.capitalize()} is\", len(result))\n",
            "C:\\Users\\Shahz\\AppData\\Local\\Packages\\PythonSoftwareFoundation.Python.3.10_qbz5n2kfra8p0\\LocalCache\\local-packages\\Python310\\site-packages\\sklearn\\metrics\\_classification.py:1565: UndefinedMetricWarning: Precision is ill-defined and being set to 0.0 in labels with no predicted samples. Use `zero_division` parameter to control this behavior.\n",
            "  _warn_prf(average, modifier, f\"{metric.capitalize()} is\", len(result))\n"
          ]
        }
      ],
      "source": [
        "\n",
        "df_summary = run_experiments('./pdc_dataset_with_target.csv')\n",
        "df_summary.to_csv('./experiment_summary_weighted.csv', index=False)\n",
        "\n"
      ]
    },
    {
      "cell_type": "code",
      "execution_count": null,
      "id": "7MZk6Xn191YO",
      "metadata": {
        "id": "7MZk6Xn191YO"
      },
      "outputs": [],
      "source": []
    },
    {
      "cell_type": "code",
      "execution_count": 30,
      "id": "RmELLVd891a4",
      "metadata": {
        "colab": {
          "base_uri": "https://localhost:8080/",
          "height": 175
        },
        "id": "RmELLVd891a4",
        "outputId": "f59d7164-6889-4791-9143-6af407c33dc8"
      },
      "outputs": [
        {
          "data": {
            "text/html": [
              "<div>\n",
              "<style scoped>\n",
              "    .dataframe tbody tr th:only-of-type {\n",
              "        vertical-align: middle;\n",
              "    }\n",
              "\n",
              "    .dataframe tbody tr th {\n",
              "        vertical-align: top;\n",
              "    }\n",
              "\n",
              "    .dataframe thead th {\n",
              "        text-align: right;\n",
              "    }\n",
              "</style>\n",
              "<table border=\"1\" class=\"dataframe\">\n",
              "  <thead>\n",
              "    <tr style=\"text-align: right;\">\n",
              "      <th></th>\n",
              "      <th>config</th>\n",
              "      <th>time_s</th>\n",
              "      <th>accuracy</th>\n",
              "      <th>f1_score</th>\n",
              "    </tr>\n",
              "  </thead>\n",
              "  <tbody>\n",
              "    <tr>\n",
              "      <th>0</th>\n",
              "      <td>cpu_serial</td>\n",
              "      <td>23.24</td>\n",
              "      <td>0.403626</td>\n",
              "      <td>0.575119</td>\n",
              "    </tr>\n",
              "    <tr>\n",
              "      <th>1</th>\n",
              "      <td>cpu_parallel</td>\n",
              "      <td>116.77</td>\n",
              "      <td>0.403626</td>\n",
              "      <td>0.575119</td>\n",
              "    </tr>\n",
              "    <tr>\n",
              "      <th>2</th>\n",
              "      <td>gpu_serial</td>\n",
              "      <td>55.30</td>\n",
              "      <td>0.403626</td>\n",
              "      <td>0.575119</td>\n",
              "    </tr>\n",
              "    <tr>\n",
              "      <th>3</th>\n",
              "      <td>gpu_dp</td>\n",
              "      <td>115.26</td>\n",
              "      <td>0.403626</td>\n",
              "      <td>0.575119</td>\n",
              "    </tr>\n",
              "  </tbody>\n",
              "</table>\n",
              "</div>"
            ],
            "text/plain": [
              "         config  time_s  accuracy  f1_score\n",
              "0    cpu_serial   23.24  0.403626  0.575119\n",
              "1  cpu_parallel  116.77  0.403626  0.575119\n",
              "2    gpu_serial   55.30  0.403626  0.575119\n",
              "3        gpu_dp  115.26  0.403626  0.575119"
            ]
          },
          "execution_count": 30,
          "metadata": {},
          "output_type": "execute_result"
        }
      ],
      "source": [
        "df_summary"
      ]
    },
    {
      "cell_type": "code",
      "execution_count": 31,
      "id": "D5rxbZrO91d1",
      "metadata": {
        "colab": {
          "base_uri": "https://localhost:8080/",
          "height": 391
        },
        "id": "D5rxbZrO91d1",
        "outputId": "f874eb66-237e-45cb-830e-870b2fd70a6c"
      },
      "outputs": [
        {
          "data": {
            "image/png": "[encoded data removed]",
            "text/plain": [
              "<Figure size 800x400 with 1 Axes>"
            ]
          },
          "metadata": {},
          "output_type": "display_data"
        }
      ],
      "source": [
        "from matplotlib import pyplot as plt\n",
        "df_summary['time_s'].plot(kind='line', figsize=(8, 4), title='time_s')\n",
        "plt.gca().spines[['top', 'right']].set_visible(False)"
      ]
    },
    {
      "cell_type": "code",
      "execution_count": null,
      "id": "Ff4Ycp9I91g7",
      "metadata": {
        "id": "Ff4Ycp9I91g7"
      },
      "outputs": [],
      "source": []
    },
    {
      "cell_type": "code",
      "execution_count": null,
      "id": "JYQM9ieo91j6",
      "metadata": {
        "id": "JYQM9ieo91j6"
      },
      "outputs": [],
      "source": []
    }
  ],
  "metadata": {
    "accelerator": "GPU",
    "colab": {
      "gpuType": "T4",
      "provenance": []
    },
    "kernelspec": {
      "display_name": "Python 3",
      "name": "python3"
    },
    "language_info": {
      "codemirror_mode": {
        "name": "ipython",
        "version": 3
      },
      "file_extension": ".py",
      "mimetype": "text/x-python",
      "name": "python",
      "nbconvert_exporter": "python",
      "pygments_lexer": "ipython3",
      "version": "3.10.11"
    }
  },
  "nbformat": 4,
  "nbformat_minor": 5
}
